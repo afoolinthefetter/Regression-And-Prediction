{
  "nbformat": 4,
  "nbformat_minor": 0,
  "metadata": {
    "colab": {
      "provenance": []
    },
    "kernelspec": {
      "name": "python3",
      "display_name": "Python 3"
    },
    "language_info": {
      "name": "python"
    }
  },
  "cells": [
    {
      "cell_type": "code",
      "execution_count": null,
      "metadata": {
        "id": "fsuS2UHS7A5Y"
      },
      "outputs": [],
      "source": [
        "import pandas as pd\n",
        "import matplotlib.pyplot as plt\n"
      ]
    },
    {
      "cell_type": "code",
      "source": [
        "path = '/content/data/data.csv'\n",
        "df =pd.read_csv(path, header=None)\n",
        "X = df.iloc[:,0]\n",
        "Y = df.iloc[:,1]"
      ],
      "metadata": {
        "id": "Ec0MC02w_F5a"
      },
      "execution_count": 2,
      "outputs": []
    },
    {
      "cell_type": "code",
      "source": [
        "plt.scatter(X,Y)\n",
        "plt.show()"
      ],
      "metadata": {
        "colab": {
          "base_uri": "https://localhost:8080/",
          "height": 265
        },
        "id": "n51jzXS3Evs0",
        "outputId": "0e38595c-d2e8-4460-ee8c-a71fc1c7b481"
      },
      "execution_count": 3,
      "outputs": [
        {
          "output_type": "display_data",
          "data": {
            "text/plain": [
              "<Figure size 432x288 with 1 Axes>"
            ],
            "image/png": "[encoded data removed]"
          },
          "metadata": {
            "needs_background": "light"
          }
        }
      ]
    },
    {
      "cell_type": "code",
      "source": [
        "def GradientDescent(X,Y,learnRate, epochs):\n",
        "  m = 0\n",
        "  b = 0\n",
        "  n = float(len(X))\n",
        "  # print(\"learning rate\", learnRate)\n",
        "  # print(\"epochs\", epochs)\n",
        "  for epoch in range(epochs):\n",
        "    YPredict = m*X + b\n",
        "    derWithM = (-2/n) * sum(X * (Y - YPredict))\n",
        "    derWithB = (-2/n) * sum(Y - YPredict)\n",
        "    #update m and b with respect to differentiation\n",
        "    m = m - learnRate * derWithM\n",
        "    b = b - learnRate * derWithB\n",
        "    \n",
        "    if (epoch%(epochs/10)==0):\n",
        "      print(\"Epoch :\", epoch/10, \"% with: m = {valueofM}, b = {valueofB}\".format(valueofM=m, valueofB = b))\n",
        "\n",
        "  return(m,b)"
      ],
      "metadata": {
        "id": "px3JQR2B_I5T"
      },
      "execution_count": 14,
      "outputs": []
    },
    {
      "cell_type": "code",
      "source": [
        "m, b = GradientDescent(X,Y, 0.0001, 1000)\n",
        "# m, b = 1.4796491688889395, 0.10148121494753734\n",
        "\n",
        "YPredict = m * X + b"
      ],
      "metadata": {
        "colab": {
          "base_uri": "https://localhost:8080/"
        },
        "id": "6Qcsg6pYCIaw",
        "outputId": "6f6294b9-4a64-4afc-fb64-4192b76f5504"
      },
      "execution_count": 15,
      "outputs": [
        {
          "output_type": "stream",
          "name": "stdout",
          "text": [
            "Epoch : 0.0 % with: m = 0.7370702973591055, b = 0.014547010110737297\n",
            "Epoch : 10.0 % with: m = 1.4788015372774521, b = 0.03513502002912928\n",
            "Epoch : 20.0 % with: m = 1.4786835569145387, b = 0.04113767542736797\n",
            "Epoch : 30.0 % with: m = 1.4785656655669113, b = 0.047135801867800996\n",
            "Epoch : 40.0 % with: m = 1.4784478631674083, b = 0.05312940276749255\n",
            "Epoch : 50.0 % with: m = 1.478330149648919, b = 0.059118481540928546\n",
            "Epoch : 60.0 % with: m = 1.4782125249443832, b = 0.06510304160001894\n",
            "Epoch : 70.0 % with: m = 1.4780949889867918, b = 0.07108308635409932\n",
            "Epoch : 80.0 % with: m = 1.4779775417091856, b = 0.07705861920993279\n",
            "Epoch : 90.0 % with: m = 1.4778601830446565, b = 0.08302964357171239\n"
          ]
        }
      ]
    },
    {
      "cell_type": "code",
      "source": [
        "plt.scatter(X,Y)\n",
        "plt.plot([min(X),max(X)],[min(YPredict), max(YPredict)], color=\"red\")\n",
        "plt.show()"
      ],
      "metadata": {
        "colab": {
          "base_uri": "https://localhost:8080/",
          "height": 265
        },
        "id": "u8ZMmi5ECS3z",
        "outputId": "ee8192de-3692-4de7-f66b-f9a555f8ceaa"
      },
      "execution_count": null,
      "outputs": [
        {
          "output_type": "display_data",
          "data": {
            "text/plain": [
              "<Figure size 432x288 with 1 Axes>"
            ],
            "image/png": "[encoded data removed]"
          },
          "metadata": {
            "needs_background": "light"
          }
        }
      ]
    },
    {
      "cell_type": "code",
      "source": [
        "print(type(X))"
      ],
      "metadata": {
        "id": "x2WBk5UsD744",
        "colab": {
          "base_uri": "https://localhost:8080/"
        },
        "outputId": "9a0b16d7-5931-44a2-da73-32aff806a8e4"
      },
      "execution_count": 18,
      "outputs": [
        {
          "output_type": "stream",
          "name": "stdout",
          "text": [
            "<class 'pandas.core.series.Series'>\n"
          ]
        }
      ]
    },
    {
      "cell_type": "markdown",
      "source": [
        "Comparing custom gradient descent with linear_regression form sikit learn"
      ],
      "metadata": {
        "id": "WznrMMw2YUz2"
      }
    },
    {
      "cell_type": "code",
      "source": [
        "from sklearn import linear_model\n",
        "model = linear_model.LinearRegression()\n",
        "Xarray  = X.to_numpy().reshape(-1,1)\n",
        "predictor = model.fit(Xarray,Y)\n",
        "YPredictSK = predictor.predict(Xarray)\n",
        "print(\"Coefficient form SK-Learn Model: \", predictor.coef_)\n",
        "print(\"Intercept from SK-Learn ModelL:\", predictor.intercept_)"
      ],
      "metadata": {
        "colab": {
          "base_uri": "https://localhost:8080/"
        },
        "id": "5AKyAsCxYM8u",
        "outputId": "7ce10d8a-9b8a-4757-ec39-ba79f8a60810"
      },
      "execution_count": 26,
      "outputs": [
        {
          "output_type": "stream",
          "name": "stdout",
          "text": [
            "Coefficient form SK-Learn Model:  [1.32243102]\n",
            "Intercept from SK-Learn ModelL: 7.991020982270399\n"
          ]
        }
      ]
    },
    {
      "cell_type": "code",
      "source": [
        "plt.scatter(X,Y)\n",
        "plt.plot([min(X), max(X)],[min(YPredictSK), max(YPredictSK)], color=\"red\")\n",
        "plt.show()"
      ],
      "metadata": {
        "colab": {
          "base_uri": "https://localhost:8080/",
          "height": 265
        },
        "id": "mUb0Tgk2Yv_Y",
        "outputId": "18c8ad2b-d1ad-4650-bdc2-fee8fb7fe606"
      },
      "execution_count": 30,
      "outputs": [
        {
          "output_type": "display_data",
          "data": {
            "text/plain": [
              "<Figure size 432x288 with 1 Axes>"
            ],
            "image/png": "[encoded data removed]"
          },
          "metadata": {
            "needs_background": "light"
          }
        }
      ]
    },
    {
      "cell_type": "code",
      "source": [],
      "metadata": {
        "id": "8HjIDGmTalfY"
      },
      "execution_count": null,
      "outputs": []
    }
  ]
}