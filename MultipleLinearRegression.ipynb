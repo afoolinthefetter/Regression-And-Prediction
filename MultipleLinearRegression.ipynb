{
  "cells": [
    {
      "cell_type": "code",
      "execution_count": 1,
      "metadata": {
        "id": "wlZtMSjN7c54"
      },
      "outputs": [],
      "source": [
        "import pandas as pd\n",
        "from sklearn import datasets, linear_model\n",
        "from sklearn.model_selection import train_test_split\n",
        "from sklearn.metrics import mean_squared_error, r2_score\n",
        "import matplotlib.pyplot as plt"
      ]
    },
    {
      "cell_type": "code",
      "execution_count": 2,
      "metadata": {
        "id": "V38Hmu7SB1tB"
      },
      "outputs": [],
      "source": [
        "house_csv = '/content/data/kc_house_data.csv'\n",
        "df = pd.read_csv(house_csv)\n",
        "selected =  ['price', 'sqft_living', 'sqft_lot', 'bathrooms', \n",
        "          'bedrooms', 'grade']\n",
        "df = df[selected]"
      ]
    },
    {
      "cell_type": "code",
      "execution_count": 3,
      "metadata": {
        "id": "V_YMqP4wB-OZ"
      },
      "outputs": [],
      "source": [
        "predictors = ['sqft_living', 'sqft_lot', 'bathrooms', \n",
        "          'bedrooms', 'grade']\n",
        "outcome = ['price']\n",
        "X_train, X_test, y_train, y_test = train_test_split(df[predictors], df[outcome], test_size=0.2, random_state=42)\n"
      ]
    },
    {
      "cell_type": "code",
      "execution_count": 4,
      "metadata": {
        "id": "UV7wAA_OEkYL"
      },
      "outputs": [],
      "source": [
        "model = linear_model.LinearRegression()\n",
        "predictor = model.fit(X_train, y_train)"
      ]
    },
    {
      "cell_type": "code",
      "execution_count": 5,
      "metadata": {
        "id": "nob2iWKVEnog"
      },
      "outputs": [],
      "source": [
        "y_predict = predictor.predict(X_test)"
      ]
    },
    {
      "cell_type": "code",
      "execution_count": 6,
      "metadata": {
        "id": "YrqUReIFFlpG"
      },
      "outputs": [],
      "source": [
        "mserror = mean_squared_error(y_predict, y_test)\n",
        "r2score = r2_score(y_predict, y_test)"
      ]
    },
    {
      "cell_type": "code",
      "execution_count": 7,
      "metadata": {
        "colab": {
          "base_uri": "https://localhost:8080/"
        },
        "id": "zWBTyfbaF4qV",
        "outputId": "74de5fed-36c8-4905-befb-6c831c8408a3"
      },
      "outputs": [
        {
          "name": "stdout",
          "output_type": "stream",
          "text": [
            "Intercept:[-460333.95446669]\n",
            "Coefficients:\n",
            "['sqft_living', 'sqft_lot', 'bathrooms', 'bedrooms', 'grade']\n",
            "[[ 2.30017377e+02 -3.55016293e-01 -2.45657101e+04 -3.96457873e+04\n",
            "   9.29967861e+04]]\n"
          ]
        }
      ],
      "source": [
        "print(f'Intercept:{predictor.intercept_}')\n",
        "print(\"Coefficients:\")\n",
        "print(predictors)\n",
        "print(predictor.coef_)"
      ]
    },
    {
      "cell_type": "code",
      "execution_count": 8,
      "metadata": {
        "colab": {
          "base_uri": "https://localhost:8080/"
        },
        "id": "NQY1N4csF6eb",
        "outputId": "d28c4772-b642-4845-be11-0de8cac06478"
      },
      "outputs": [
        {
          "name": "stdout",
          "output_type": "stream",
          "text": [
            "Mean Squared Error: 68078935653.92661\n",
            "R2 Score: 0.13243878965565947\n"
          ]
        }
      ],
      "source": [
        "print('Mean Squared Error:', mserror)\n",
        "print('R2 Score:', r2score)"
      ]
    },
    {
      "cell_type": "code",
      "execution_count": 8,
      "metadata": {
        "id": "dNXbTtahMAI1"
      },
      "outputs": [],
      "source": []
    }
  ],
  "metadata": {
    "colab": {
      "collapsed_sections": [],
      "provenance": []
    },
    "kernelspec": {
      "display_name": "Python 3.9.6 64-bit",
      "language": "python",
      "name": "python3"
    },
    "language_info": {
      "name": "python",
      "version": "3.9.6"
    },
    "vscode": {
      "interpreter": {
        "hash": "31f2aee4e71d21fbe5cf8b01ff0e069b9275f58929596ceb00d14d90e3e16cd6"
      }
    }
  },
  "nbformat": 4,
  "nbformat_minor": 0
}
