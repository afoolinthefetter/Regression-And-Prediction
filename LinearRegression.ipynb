{
  "nbformat": 4,
  "nbformat_minor": 0,
  "metadata": {
    "colab": {
      "provenance": []
    },
    "kernelspec": {
      "name": "python3",
      "display_name": "Python 3"
    },
    "language_info": {
      "name": "python"
    }
  },
  "cells": [
    {
      "cell_type": "code",
      "execution_count": 64,
      "metadata": {
        "id": "k1nm466aLuDs"
      },
      "outputs": [],
      "source": [
        "import numpy as np\n",
        "from sklearn import datasets, linear_model\n",
        "from sklearn.model_selection import train_test_split\n",
        "from sklearn.metrics import mean_squared_error, r2_score\n",
        "import matplotlib.pyplot as plt"
      ]
    },
    {
      "cell_type": "code",
      "source": [
        "X, Y = datasets.load_diabetes(return_X_y=True)\n",
        "X = X[:,np.newaxis,0]\n",
        "x_train, x_test, y_train, y_test = train_test_split(X,Y, test_size=.2, random_state=42)"
      ],
      "metadata": {
        "id": "Lmese_PCLx3l"
      },
      "execution_count": 50,
      "outputs": []
    },
    {
      "cell_type": "code",
      "source": [
        "model = linear_model.LinearRegression()"
      ],
      "metadata": {
        "id": "x1W1wm9jZjov"
      },
      "execution_count": 54,
      "outputs": []
    },
    {
      "cell_type": "code",
      "source": [
        "predictor = model.fit(x_train, y_train)"
      ],
      "metadata": {
        "id": "PkRi9DwKaNKO"
      },
      "execution_count": 55,
      "outputs": []
    },
    {
      "cell_type": "code",
      "source": [
        "y_predict = predictor.predict(x_test)"
      ],
      "metadata": {
        "id": "WbKUjCtibKec"
      },
      "execution_count": 56,
      "outputs": []
    },
    {
      "cell_type": "code",
      "source": [
        "mserror = mean_squared_error(y_test, y_predict)\n",
        "r2score = r2_score(y_test, y_predict)"
      ],
      "metadata": {
        "id": "3L4gBOBrbpNg"
      },
      "execution_count": 63,
      "outputs": []
    },
    {
      "cell_type": "code",
      "source": [
        "print(\"Coefficient: \", predictor.coef_)\n",
        "print(\"Mean Squared Error: %.2f\" %mserror)\n",
        "print(\"Coefficient of Determination: %.2f\" %r2score)"
      ],
      "metadata": {
        "colab": {
          "base_uri": "https://localhost:8080/"
        },
        "id": "T9H_P976tT0x",
        "outputId": "608b8e9d-79f5-4e49-9028-f6016f88001b"
      },
      "execution_count": 66,
      "outputs": [
        {
          "output_type": "stream",
          "name": "stdout",
          "text": [
            "Coefficient:  [331.072172]\n",
            "Mean Squared Error: 5254.23\n",
            "Coefficient of Determination: 0.01\n"
          ]
        }
      ]
    },
    {
      "cell_type": "code",
      "source": [
        "plt.scatter(x_train, y_train, color=\"black\")\n",
        "plt.plot(x_test, y_predict, color=\"blue\")\n",
        "plt.xlabel(\"X dimension\")\n",
        "plt.ylabel(\"Y dimension\")\n",
        "# plt.xticks(())\n",
        "# plt.yticks(())\n",
        "plt.show()"
      ],
      "metadata": {
        "colab": {
          "base_uri": "https://localhost:8080/",
          "height": 279
        },
        "id": "gcfAw30yv9z7",
        "outputId": "2bf8d3a7-86de-4d33-850f-6a9aebba6460"
      },
      "execution_count": 73,
      "outputs": [
        {
          "output_type": "display_data",
          "data": {
            "text/plain": [
              "<Figure size 432x288 with 1 Axes>"
            ],
            "image/png": "[encoded data removed]"
          },
          "metadata": {
            "needs_background": "light"
          }
        }
      ]
    },
    {
      "cell_type": "code",
      "source": [],
      "metadata": {
        "id": "R3RnBZTYwRZl"
      },
      "execution_count": null,
      "outputs": []
    }
  ]
}